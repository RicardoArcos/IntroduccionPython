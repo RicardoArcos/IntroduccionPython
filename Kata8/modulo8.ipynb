{
 "cells": [
  {
   "cell_type": "markdown",
   "metadata": {},
   "source": [
    "## Administrar datos con diccionarios"
   ]
  },
  {
   "cell_type": "markdown",
   "metadata": {},
   "source": [
    "Ejercicio 1"
   ]
  },
  {
   "cell_type": "code",
   "execution_count": 23,
   "metadata": {},
   "outputs": [
    {
     "name": "stdout",
     "output_type": "stream",
     "text": [
      "El nombre del planeta es: Mars y tiene 2 luna(s).\n",
      "El nombre del planeta es Mars y tiene una las siguientes circunferencias: polar 6752km y equatorial 6792km.\n"
     ]
    }
   ],
   "source": [
    "planet = {\n",
    "    'name': 'Mars',\n",
    "    'moons': 2\n",
    "}\n",
    "print('El nombre del planeta es: '+str(planet.get('name'))+' y tiene '+str(planet.get('moons'))+' luna(s).')\n",
    "\n",
    "planet['circunferencia'] = circunferecias = {'polar': 6752,'equatorial': 6792}\n",
    "print('El nombre del planeta es '+str(planet.get('name'))+' y tiene una las siguientes circunferencias: polar '+str(planet['circunferencia']['polar'])+'km y equatorial '+str(planet['circunferencia']['equatorial'])+'km.')"
   ]
  },
  {
   "cell_type": "markdown",
   "metadata": {},
   "source": [
    "Ejercicio 2"
   ]
  },
  {
   "cell_type": "code",
   "execution_count": 24,
   "metadata": {},
   "outputs": [
    {
     "name": "stdout",
     "output_type": "stream",
     "text": [
      "17.833333333333332\n"
     ]
    }
   ],
   "source": [
    "planet_moons = {\n",
    "    'mercury': 0,\n",
    "    'venus': 0,\n",
    "    'earth': 1,\n",
    "    'mars': 2,\n",
    "    'jupiter': 79,\n",
    "    'saturn': 82,\n",
    "    'uranus': 27,\n",
    "    'neptune': 14,\n",
    "    'pluto': 5,\n",
    "    'haumea': 2,\n",
    "    'makemake': 1,\n",
    "    'eris': 1\n",
    "}\n",
    "\n",
    "moons = 0\n",
    "planets = 0\n",
    "\n",
    "for dato in planet_moons.values():\n",
    "    moons += dato\n",
    "    planets += 1\n",
    "\n",
    "promedio = moons / planets\n",
    "print(promedio)"
   ]
  }
 ],
 "metadata": {
  "interpreter": {
   "hash": "185669104f63216fa47b8c0d0123bd3ea449454c783cfcf85dd60ac5105c51b1"
  },
  "kernelspec": {
   "display_name": "Python 3.9.5 64-bit",
   "language": "python",
   "name": "python3"
  },
  "language_info": {
   "codemirror_mode": {
    "name": "ipython",
    "version": 3
   },
   "file_extension": ".py",
   "mimetype": "text/x-python",
   "name": "python",
   "nbconvert_exporter": "python",
   "pygments_lexer": "ipython3",
   "version": "3.9.5"
  },
  "orig_nbformat": 4
 },
 "nbformat": 4,
 "nbformat_minor": 2
}
