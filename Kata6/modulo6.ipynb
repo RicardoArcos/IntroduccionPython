{
 "cells": [
  {
   "cell_type": "markdown",
   "metadata": {},
   "source": [
    "## Crear y usar listas"
   ]
  },
  {
   "cell_type": "markdown",
   "metadata": {},
   "source": [
    "Ejercicio 1"
   ]
  },
  {
   "cell_type": "code",
   "execution_count": null,
   "metadata": {},
   "outputs": [],
   "source": [
    "planets = ['Mercurio','Venus','Tierra','Marte','Jupiter','Saturno','Urano','Neptuno']\n",
    "planets.append('Pluton')\n",
    "print(len(planets))\n",
    "print(planets[-1])"
   ]
  },
  {
   "cell_type": "markdown",
   "metadata": {},
   "source": [
    "Ejercicio 2"
   ]
  },
  {
   "cell_type": "code",
   "execution_count": null,
   "metadata": {},
   "outputs": [],
   "source": [
    "planets = ['Mercury', 'Venus', 'Earth', 'Mars', 'Jupiter', 'Saturn', 'Neptune']\n",
    "cadena = input('Ingrese un planeta (La primera letra en mayuscula): ')\n",
    "\n",
    "index_planeta = planets.index(cadena)\n",
    "\n",
    "print('Los planetas mas cercanos al sol son: %s' % (planets[0:index_planeta]))\n",
    "print('Los planetas mas alejados al sol son: %s' % (planets[index_planeta + 1:]))"
   ]
  }
 ],
 "metadata": {
  "interpreter": {
   "hash": "185669104f63216fa47b8c0d0123bd3ea449454c783cfcf85dd60ac5105c51b1"
  },
  "kernelspec": {
   "display_name": "Python 3.9.5 64-bit",
   "language": "python",
   "name": "python3"
  },
  "language_info": {
   "codemirror_mode": {
    "name": "ipython",
    "version": 3
   },
   "file_extension": ".py",
   "mimetype": "text/x-python",
   "name": "python",
   "nbconvert_exporter": "python",
   "pygments_lexer": "ipython3",
   "version": "3.9.5"
  },
  "orig_nbformat": 4
 },
 "nbformat": 4,
 "nbformat_minor": 2
}
