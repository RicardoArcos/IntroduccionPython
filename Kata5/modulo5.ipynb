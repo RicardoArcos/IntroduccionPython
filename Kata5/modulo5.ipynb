{
 "cells": [
  {
   "cell_type": "markdown",
   "metadata": {},
   "source": [
    "## Utilizar operadores aritméticos"
   ]
  },
  {
   "cell_type": "markdown",
   "metadata": {},
   "source": [
    "Ejercicio 1"
   ]
  },
  {
   "cell_type": "code",
   "execution_count": 13,
   "metadata": {},
   "outputs": [
    {
     "name": "stdout",
     "output_type": "stream",
     "text": [
      "La distancia en km es: 628949330\n",
      "La distancia en millas es: 390577533.93\n"
     ]
    }
   ],
   "source": [
    "tierra = 149597870\n",
    "jupiter = 778547200\n",
    "\n",
    "print('La distancia en km es: %s' % (jupiter-tierra))\n",
    "print('La distancia en millas es: %s' % ((jupiter-tierra)*0.621))"
   ]
  },
  {
   "cell_type": "markdown",
   "metadata": {},
   "source": [
    "Ejercicio 2"
   ]
  },
  {
   "cell_type": "code",
   "execution_count": 14,
   "metadata": {},
   "outputs": [
    {
     "name": "stdout",
     "output_type": "stream",
     "text": [
      "Ingrese dos planetas: \n",
      "La distancia en kilometros es: 50300000\n",
      "La distancia en millas es: 31236300.0\n"
     ]
    }
   ],
   "source": [
    "print('Ingrese dos planetas: ')\n",
    "planeta1 = int(input('Planeta 1: '))\n",
    "planeta2 = int(input('Planeta 2: '))\n",
    "distancia = abs(planeta2 - planeta1)\n",
    "\n",
    "print('La distancia en kilometros es: %s' % (distancia))\n",
    "print('La distancia en millas es: %s' % (distancia*0.621))"
   ]
  }
 ],
 "metadata": {
  "interpreter": {
   "hash": "185669104f63216fa47b8c0d0123bd3ea449454c783cfcf85dd60ac5105c51b1"
  },
  "kernelspec": {
   "display_name": "Python 3.9.5 64-bit",
   "language": "python",
   "name": "python3"
  },
  "language_info": {
   "codemirror_mode": {
    "name": "ipython",
    "version": 3
   },
   "file_extension": ".py",
   "mimetype": "text/x-python",
   "name": "python",
   "nbconvert_exporter": "python",
   "pygments_lexer": "ipython3",
   "version": "3.9.5"
  },
  "orig_nbformat": 4
 },
 "nbformat": 4,
 "nbformat_minor": 2
}
