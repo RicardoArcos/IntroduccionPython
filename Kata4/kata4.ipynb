{
 "cells": [
  {
   "cell_type": "markdown",
   "metadata": {},
   "source": [
    "## Transformar cadenas"
   ]
  },
  {
   "cell_type": "markdown",
   "metadata": {},
   "source": [
    "Ejercicio 1"
   ]
  },
  {
   "cell_type": "code",
   "execution_count": 8,
   "metadata": {},
   "outputs": [
    {
     "name": "stdout",
     "output_type": "stream",
     "text": [
      "['Interesting facts about the Moon', \"The Moon is Earth's only satellite\", 'There are several interesting facts about the Moon and how it affects life here on Earth.\\nOn average, the Moon moves 4cm away from the Earth every year', 'This yearly drift is not significant enough to cause immediate effects on Earth', 'The highest daylight temperature of the Moon is 127 C.']\n",
      "There are several interesting facts about the Moon and how it affects life here on Earth.\n",
      "On average, the Moon moves 4cm away from the Earth every year\n",
      "The highest daylight temperature of the Moon is 127 Celsius.\n"
     ]
    }
   ],
   "source": [
    "texto = \"Interesting facts about the Moon. The Moon is Earth's only satellite. There are several interesting facts about the Moon and how it affects life here on Earth.\\nOn average, the Moon moves 4cm away from the Earth every year. This yearly drift is not significant enough to cause immediate effects on Earth. The highest daylight temperature of the Moon is 127 C.\"\n",
    "oraciones = texto.split('. ')\n",
    "print(oraciones)\n",
    "# Palabras average, temperature y distance\n",
    "for oracion in oraciones:\n",
    "    if 'average' in oracion:\n",
    "        print(oracion)\n",
    "    elif 'temperature' in oracion:\n",
    "        print(oracion.replace('C','Celsius'))\n",
    "    elif 'distance' in oracion:\n",
    "        print(oracion)"
   ]
  },
  {
   "cell_type": "markdown",
   "metadata": {},
   "source": [
    "Ejercicio 2"
   ]
  },
  {
   "cell_type": "code",
   "execution_count": 9,
   "metadata": {},
   "outputs": [
    {
     "name": "stdout",
     "output_type": "stream",
     "text": [
      "Gravity facts about Moon\n",
      "--------------------------------------------------------------------------------\n",
      "Planet Name: Earth\n",
      "Gravity on Moon: 1.6199999999999999 m/s2\n",
      "Gravity facts about Moon\n",
      "--------------------------------------------------------------------------------\n",
      "Planet Name: Earth\n",
      "Gravity on Moon: 1.6199999999999999 m/s2\n",
      "Gravity facts about Ganímedes \n",
      "--------------------------------------------------------------------------------\n",
      "Planet Name: Marte \n",
      "Gravity on Ganímedes: 1.4300000000000002 m/s2\n"
     ]
    }
   ],
   "source": [
    "name = \"Moon\"\n",
    "gravity = 0.00162 # in kms\n",
    "planet = \"Earth\"\n",
    "\n",
    "#Plantilla\n",
    "titulo = f'Gravity facts about {name}'\n",
    "datos = f\"\\n{'-'*80}\\nPlanet Name: {planet}\\nGravity on {name}: {gravity*1000} m/s2\"\n",
    "contenido = titulo + datos\n",
    "\n",
    "planeta = 'Marte '\n",
    "gravedad  = 0.00143*1000\n",
    "nombre = 'Ganímedes'\n",
    "\n",
    "linea = '-'*80\n",
    "nuevo_contenido = 'Gravity facts about {nombre} \\n{linea}\\nPlanet Name: {planeta}\\nGravity on {nombre}: {gravedad} m/s2'\n",
    "print(nuevo_contenido.format(nombre=nombre, linea=linea, planeta=planeta, gravedad = gravedad))\n"
   ]
  }
 ],
 "metadata": {
  "interpreter": {
   "hash": "185669104f63216fa47b8c0d0123bd3ea449454c783cfcf85dd60ac5105c51b1"
  },
  "kernelspec": {
   "display_name": "Python 3.9.5 64-bit",
   "language": "python",
   "name": "python3"
  },
  "language_info": {
   "codemirror_mode": {
    "name": "ipython",
    "version": 3
   },
   "file_extension": ".py",
   "mimetype": "text/x-python",
   "name": "python",
   "nbconvert_exporter": "python",
   "pygments_lexer": "ipython3",
   "version": "3.9.5"
  },
  "orig_nbformat": 4
 },
 "nbformat": 4,
 "nbformat_minor": 2
}
