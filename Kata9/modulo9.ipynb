{
 "cells": [
  {
   "cell_type": "markdown",
   "metadata": {},
   "source": [
    "## Funciones"
   ]
  },
  {
   "cell_type": "markdown",
   "metadata": {},
   "source": [
    "Ejercicio 1"
   ]
  },
  {
   "cell_type": "code",
   "execution_count": 20,
   "metadata": {},
   "outputs": [
    {
     "name": "stdout",
     "output_type": "stream",
     "text": [
      "El promedio de las lecturas es: 58.333333333333336\n",
      "Tanque 1: 34\n",
      "Tanque 2: 72\n",
      "Tanque 3: 69\n"
     ]
    }
   ],
   "source": [
    "def informes(lectura1, lectura2, lectura3):\n",
    "    print('El promedio de las lecturas es: '+str(promedio(lectura1,lectura2,lectura3)))\n",
    "    print('Tanque 1: '+str(lectura1)+'\\nTanque 2: '+str(lectura2)+'\\nTanque 3: '+str(lectura3))\n",
    "\n",
    "def promedio(*args):\n",
    "    return ((args[0]+args[1]+args[2])/3)\n",
    "\n",
    "informes(34,72,69)"
   ]
  },
  {
   "cell_type": "markdown",
   "metadata": {},
   "source": [
    "Ejercicio 2"
   ]
  },
  {
   "cell_type": "code",
   "execution_count": 21,
   "metadata": {},
   "outputs": [
    {
     "name": "stdout",
     "output_type": "stream",
     "text": [
      "\n",
      "    Destino: Luna\n",
      "    Tiempo hasta el destino: 19 minutos\n",
      "    Combustible disponible: 500000 litros\n",
      "En el tanque main hay 300000 litros\n",
      "En el tanque external hay 200000 litros\n",
      "\n"
     ]
    }
   ],
   "source": [
    "def informe(destino,*tiempo, **tanques):\n",
    "    reporte = f\"\"\"\n",
    "    Destino: {destino}\n",
    "    Tiempo hasta el destino: {tiempo[0]+tiempo[1]} minutos\n",
    "    Combustible disponible: {sum(tanques.values())} litros\\n\"\"\"\n",
    "\n",
    "    for nombre, contenido in tanques.items():\n",
    "        reporte += f\"\"\"En el tanque {nombre} hay {contenido} litros\\n\"\"\"\n",
    "    \n",
    "    return reporte\n",
    "\n",
    "print(informe(\"Luna\", 8, 11, 55, main=300000, external=200000))"
   ]
  }
 ],
 "metadata": {
  "interpreter": {
   "hash": "185669104f63216fa47b8c0d0123bd3ea449454c783cfcf85dd60ac5105c51b1"
  },
  "kernelspec": {
   "display_name": "Python 3.9.5 64-bit",
   "language": "python",
   "name": "python3"
  },
  "language_info": {
   "codemirror_mode": {
    "name": "ipython",
    "version": 3
   },
   "file_extension": ".py",
   "mimetype": "text/x-python",
   "name": "python",
   "nbconvert_exporter": "python",
   "pygments_lexer": "ipython3",
   "version": "3.9.5"
  },
  "orig_nbformat": 4
 },
 "nbformat": 4,
 "nbformat_minor": 2
}
