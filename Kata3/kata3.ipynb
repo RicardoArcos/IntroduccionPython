{
 "cells": [
  {
   "cell_type": "markdown",
   "metadata": {},
   "source": [
    "## Declaraciones if, else y elif."
   ]
  },
  {
   "cell_type": "markdown",
   "metadata": {},
   "source": [
    "Ejercicio 1"
   ]
  },
  {
   "cell_type": "code",
   "execution_count": 16,
   "metadata": {},
   "outputs": [
    {
     "name": "stdout",
     "output_type": "stream",
     "text": [
      "El asteroide va a 49 km/h. Es demasiado rápido.\n"
     ]
    }
   ],
   "source": [
    "vel_asteroide = 49\n",
    "if vel_asteroide > 25:\n",
    "    print('El asteroide va a '+str(vel_asteroide)+' km/h. Es demasiado rápido.')\n",
    "else:\n",
    "    print('El asteriode va muy lento')"
   ]
  },
  {
   "cell_type": "markdown",
   "metadata": {},
   "source": [
    "Ejercicio 2"
   ]
  },
  {
   "cell_type": "code",
   "execution_count": 17,
   "metadata": {},
   "outputs": [
    {
     "name": "stdout",
     "output_type": "stream",
     "text": [
      "No hay nada extraño en el cielo.\n"
     ]
    }
   ],
   "source": [
    "vel_asteroide = 19\n",
    "if vel_asteroide > 20:\n",
    "    print('Un asteroide se esta acercando a la tierra ¡Sal a buscarlo!')\n",
    "elif vel_asteroide == 20:\n",
    "    print('Un asteroide se esta acercando a la tierra ¡Sal a buscarlo!')\n",
    "else:\n",
    "    print('No hay nada extraño en el cielo.')"
   ]
  },
  {
   "cell_type": "markdown",
   "metadata": {},
   "source": [
    "Ejercicio 3"
   ]
  },
  {
   "cell_type": "code",
   "execution_count": 18,
   "metadata": {},
   "outputs": [
    {
     "name": "stdout",
     "output_type": "stream",
     "text": [
      "Un asteroide de 40 metros de tamaño se acerca a la tierra ¡Sal a buscarlo!\n"
     ]
    }
   ],
   "source": [
    "vel_asteroide = 25\n",
    "tam_asteroide = 40\n",
    "if tam_asteroide >= 25 and tam_asteroide < 1000:\n",
    "    if vel_asteroide > 25:\n",
    "        print('¡Alerta! Un asteroide de ' +str(tam_asteroide)+ ' metros de tamaño se acerca a la tierra con una velocidad de' +str(vel_asteroide)+' km/h.')\n",
    "    elif vel_asteroide >= 20:\n",
    "        print('Un asteroide de ' +str(tam_asteroide)+' metros de tamaño se acerca a la tierra ¡Sal a buscarlo!')\n",
    "    else:\n",
    "        print('Todo en orden por ahora')\n",
    "else:\n",
    "    print('Un asteroide muy pequeño se acerca a la tierra.')"
   ]
  }
 ],
 "metadata": {
  "interpreter": {
   "hash": "185669104f63216fa47b8c0d0123bd3ea449454c783cfcf85dd60ac5105c51b1"
  },
  "kernelspec": {
   "display_name": "Python 3.9.5 64-bit",
   "language": "python",
   "name": "python3"
  },
  "language_info": {
   "codemirror_mode": {
    "name": "ipython",
    "version": 3
   },
   "file_extension": ".py",
   "mimetype": "text/x-python",
   "name": "python",
   "nbconvert_exporter": "python",
   "pygments_lexer": "ipython3",
   "version": "3.9.5"
  },
  "orig_nbformat": 4
 },
 "nbformat": 4,
 "nbformat_minor": 2
}
